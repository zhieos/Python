{
  "nbformat": 4,
  "nbformat_minor": 0,
  "metadata": {
    "colab": {
      "name": "4.1.6.13 PROJECT: Tic-Tac-Toe",
      "provenance": []
    },
    "kernelspec": {
      "name": "python3",
      "display_name": "Python 3"
    }
  },
  "cells": [
    {
      "cell_type": "code",
      "metadata": {
        "id": "9ivrB5vefYPF",
        "colab_type": "code",
        "colab": {}
      },
      "source": [
        "#kita definisikan dulu board kita, tetapi ingat.. ada beberapa aturan yg tertulis di soal\n",
        "# the board should be stored as a three-element list, while each element is another three-element list \n",
        "# (the inner lists represent rows) so that all of the squares may be accessed using the following syntax:\n",
        "\n",
        "# board[row][column]\n",
        "\n",
        "# each of the inner list's elements can contain 'O', 'X', or a digit representing the square's number (such a square is considered free)\n",
        "# the board's appearance should be exactly the same as the one presented in the example.\n",
        "# implement the functions defined for you in the editor.\n",
        "\n",
        "board = [[1,2,3],[4,5,6],[7,8,9]] #board memenuhi syarat dari soal, yakni berisi list 3x3 dan berisi digit dari tiap nilainya\n",
        "\n",
        "#disini, jika element pada board merupakan angka 1-9, berarti kotak tersebut kosong, sedangkan jika terisi akan bernilai 'X' atau 'O'"
      ],
      "execution_count": null,
      "outputs": []
    },
    {
      "cell_type": "markdown",
      "metadata": {
        "id": "25bj8zrI2EMA",
        "colab_type": "text"
      },
      "source": [
        "adapun juga beberapa aturan yang harus kita taati yakni :\n",
        "the computer (i.e., your program) should play the game using 'X's;\n",
        "\n",
        "1. the computer (i.e., your program) should play the game using 'X's;\n",
        "2. the user (e.g., you) should play the game using 'O's;\n",
        "3. the first move belongs to the computer - it always puts its first 'X' in the middle of the board;\n",
        "4. all the squares are numbered row by row starting with 1 (see the example session below for reference)\n",
        "5. the user inputs their move by entering the number of the square they choose - the number must be valid, i.e., it must be an integer, it must be greater than 0 and less than 10, and it cannot point to a field which is already occupied;\n",
        "6. the program checks if the game is over - there are four possible verdicts: the game should continue, or the game ends with a tie, your win, or the computer's win;\n",
        "7. the computer responds with its move and the check is repeated;\n",
        "8. don't implement any form of artificial intelligence - a random field choice made by the computer is good enough for the game."
      ]
    },
    {
      "cell_type": "code",
      "metadata": {
        "id": "9YMIAqRUrvDq",
        "colab_type": "code",
        "colab": {}
      },
      "source": [
        "# Fungsi ini digunakan untuk menampilkan kondisi board, kita bisa melakukan looping dengan board menggunakan i\n",
        "def DisplayBoard(board):\n",
        "  for i in board: # i disini berisi list (karena board merupakan 2D List)\n",
        "    print('+-------+-------+-------+')\n",
        "    print('|       |       |       |')  \n",
        "    print('|   '+str(i[0])+'   |   '+str(i[1])+'   |   '+str(i[2])+'   |')  # kenapa harus str(i[0])? dikarenakan i[0] berupa integer\n",
        "    print('|       |       |       |')                                      # kita bisa saja tidak menggunakan str, tetapi + (tanda plus) di line 6 harus diubah menjadi , dan harus memastikan lagi jumlah spasi untuk tiap kolom\n",
        "  print('+-------+-------+-------+')                                        # karena jika menggunakan , (koma) akan muncul spasi tambahan <- harus hati2\n"
      ],
      "execution_count": null,
      "outputs": []
    },
    {
      "cell_type": "markdown",
      "metadata": {
        "id": "j2lpSFKLs28d",
        "colab_type": "text"
      },
      "source": [
        "Sebelum masuk ke kode berikutnya, kita akan belajar mengkonversi input user yang berupa angka 1 - 9 untuk menjadi (row,col) atau indeks baris dan kolom\n",
        "\n",
        "kita memiliki 3 baris (indeks 0 - 2) dan 3 kolom (indeks (0 - 2), kita lihat hubungan tiap angka dengan baris dan kolom\n",
        "\n",
        "```\n",
        "1 = 0+1 -> 3*0 + 0 +1\n",
        "2 = 0+2 -> 3*0 + 1 +1\n",
        "3 = 0+3 -> 3*0 + 2 +1\n",
        "4 = 3+1 -> 3*1 + 0 +1\n",
        "5 = 3+2 -> 3*1 + 1 +1\n",
        "6 = 3+3 -> 3*1 + 2 +1\n",
        "7 = 6+1 -> 3*2 + 0 +1\n",
        "8 = 6+2 -> 3*2 + 1 +1\n",
        "9 = 6+3 -> 3*2 + 2 +1\n",
        "```\n",
        "\n",
        "dari penjabaran diatas kita bisa melihat korelasinya yakni :\n",
        "\n",
        "```\n",
        "move   = 3 * indeks_baris + indeks_kolom + 1\n",
        "```\n",
        "\n",
        "indeks_baris dapat kita lihat bertambah nilainya tiap 3 kali, sedangkan indek_kolom bertambah tiap kali, tetapi tidak pernah melebihi 3 (hanya 0 - 2 saja). berarti kita dapat menarik kesimpulan bahwa : \n",
        "\n",
        "```\n",
        "indeks_baris = move-1 / 3 -> kita ingat, bahwa nilainya harus dibulatkan kebawah menjadi : \n",
        "indeks_baris = floor(((move-1)/3)\n",
        "\n",
        "indeks_kolom = (move-1) mod 3\n",
        "indeks_kolom = (move-1) mod 3\n",
        "```"
      ]
    },
    {
      "cell_type": "code",
      "metadata": {
        "id": "5dE27Zp-rxaD",
        "colab_type": "code",
        "colab": {}
      },
      "source": [
        "# Fungsi ini digunakan untuk memasukan move pilihan kita\n",
        "def EnterMove(board):\n",
        "  valid = False # agar baru dapat keluar fungsi jika user memilih tempat yang kosong\n",
        "  while not valid:\n",
        "    move = int(input('Enter your move:')) \n",
        "    row = int((move-1)/3) # indeks_baris\n",
        "    col = (move-1)%3      # indeks_kolom\n",
        "    if (board[row][col] != 'X' and board[row][col] != 'O') and ( 0 < move and move < 10): # hanya menerima input valid yakni berada di lokasi kosong DAN 0 < input < 10\n",
        "      board[row][col] = 'O' # Memasukan move pilihan user\n",
        "      valid = True"
      ],
      "execution_count": null,
      "outputs": []
    },
    {
      "cell_type": "code",
      "metadata": {
        "id": "fLyU6fcJrxcd",
        "colab_type": "code",
        "colab": {}
      },
      "source": [
        "# Fungsi ini digunakan untuk membuat ListOfTuples, dimana list berisi tuple indeks baris dan kolom kotak kosong\n",
        "def MakeListOfFreeFields(board):\n",
        "  free = [] # ListOfTuples yang akan kita return\n",
        "  for i in range(1,10):\n",
        "      row = int((i-1)/3) # indeks_baris\n",
        "      col = (i-1)%3      # indeks_kolom\n",
        "      if board[row][col] != 'X' and board[row][col] != 'O': # Apa itu kotak kosong? kotak itu berisi nilai 1-9 atau tidak berisi 'X' dan 'O'\n",
        "        free.append((row,col)) # list free di append tuple (row,col)\n",
        "  return free "
      ],
      "execution_count": null,
      "outputs": []
    },
    {
      "cell_type": "code",
      "metadata": {
        "id": "hVwPOYycrxe5",
        "colab_type": "code",
        "colab": {}
      },
      "source": [
        "# Fungsi ini digunakan untuk mengecek apakah board tersebut menghasilkan 3 kotak sejajar ... hanya terdapat 3 kemungkinan memang yakni:\n",
        "# 1. 1 baris memiliki nilai yang sama -> ada 3 baris\n",
        "# 2. 1 kolom memiliki nilai yang sama -> ada 3 kolom\n",
        "# 3. 1 diagonal memiliki nilai yang sama -> ada 2 diagonal\n",
        "def VictoryFor(board, sign):\n",
        "  win = False # \n",
        "  for i in board: # cek baris\n",
        "    if i[0] == i[1] == i[2]: # apakah kotak[i][0] sama dengan kotak[i][1] sama dengan kotak [i][2]\n",
        "      win = True\n",
        "  board_t = [list(x) for x in zip(*board)] # kita transpose board agar nilai kolom dan baris ditukar\n",
        "  for i in board_t:\n",
        "    if i[0] == i[1] == i[2]: # apakah kotak[0][i] sama dengan kotak[1][i] sama dengan kotak [2][i]\n",
        "      win = True\n",
        "  if board[0][0] == board[1][1] == board[2][2] or board[0][2] == board[1][1] == board[2][0]: # cek diagonal (hanya ada 2, jadi lebih mudah jika manual tanpa looping)\n",
        "    win = True\n",
        "\n",
        "  if win: # jika salah satu dari looping diatas menghasilkan nilai true,\n",
        "    if sign == 'O':\n",
        "      print('You Won')\n",
        "    else:\n",
        "      print('Computer Won')\n",
        "  return win"
      ],
      "execution_count": null,
      "outputs": []
    },
    {
      "cell_type": "code",
      "metadata": {
        "id": "26v8AxdCrxhP",
        "colab_type": "code",
        "colab": {}
      },
      "source": [
        "# Fungsi ini digunakan untuk memasukan move pilihan komputer dengan library random\n",
        "def DrawMove(board):\n",
        "  from random import randrange # import random\n",
        "  if board[1][1] == 5: # cek aturan point ke 3 mengenai langkah pertama computer\n",
        "    row = 1\n",
        "    col = 1\n",
        "  else:\n",
        "    valid = False # agar baru dapat keluar fungsi jika user memilih tempat yang kosong\n",
        "    while not valid:\n",
        "      row = randrange(0,3) # random nilai indeks_baris\n",
        "      col = randrange(0,3) # random nilai indeks_kolom\n",
        "      if (row,col) in MakeListOfFreeFields(board): #cek apakah (row,col) terdapat di dalam ListOfTuples yang kita buat di fungsi sebelumnya\n",
        "        valid = True\n",
        "  board[row][col] = 'X' # Memasukan move pilihan komputer"
      ],
      "execution_count": null,
      "outputs": []
    },
    {
      "cell_type": "code",
      "metadata": {
        "id": "3z0R7EJEr3wB",
        "colab_type": "code",
        "colab": {
          "base_uri": "https://localhost:8080/",
          "height": 1000
        },
        "outputId": "d125718e-48e1-443d-85e6-2c42f9afff2d"
      },
      "source": [
        "# Ini adalah main program kita\n",
        "i = 0 # digunakan untuk menghitung turn permainan, tic-tac-toe hanya ada 9 turn permainan\n",
        "won = False # ini kita gunakan untuk mengecek apakah \n",
        "while MakeListOfFreeFields(board) != [] and not won and i < 10: #Loop selama masih ada tempat kosong, belum ada yang menang, dan turn < 10\n",
        "  if i % 2 == 1: # Computer Move\n",
        "    DrawMove(board)\n",
        "    DisplayBoard(board) \n",
        "    won = VictoryFor(board, 'X')\n",
        "  else:          # User Move\n",
        "    EnterMove(board)\n",
        "    DisplayBoard(board)\n",
        "    won = VictoryFor(board, 'O')\n",
        "  i += 1\n",
        "\n",
        "if not won: # Jika turn sudah lebih dari 10, berarti sudah tidak ada kotak kosong, tetapi tidak ada yang menang, berarti permainan berakhir\n",
        "  print('Draw')"
      ],
      "execution_count": null,
      "outputs": [
        {
          "output_type": "stream",
          "text": [
            "Enter your move:5\n",
            "+-------+-------+-------+\n",
            "|       |       |       |\n",
            "|   1   |   2   |   3   |\n",
            "|       |       |       |\n",
            "+-------+-------+-------+\n",
            "|       |       |       |\n",
            "|   4   |   O   |   6   |\n",
            "|       |       |       |\n",
            "+-------+-------+-------+\n",
            "|       |       |       |\n",
            "|   7   |   8   |   9   |\n",
            "|       |       |       |\n",
            "+-------+-------+-------+\n",
            "+-------+-------+-------+\n",
            "|       |       |       |\n",
            "|   1   |   X   |   3   |\n",
            "|       |       |       |\n",
            "+-------+-------+-------+\n",
            "|       |       |       |\n",
            "|   4   |   O   |   6   |\n",
            "|       |       |       |\n",
            "+-------+-------+-------+\n",
            "|       |       |       |\n",
            "|   7   |   8   |   9   |\n",
            "|       |       |       |\n",
            "+-------+-------+-------+\n",
            "Enter your move:9\n",
            "+-------+-------+-------+\n",
            "|       |       |       |\n",
            "|   1   |   X   |   3   |\n",
            "|       |       |       |\n",
            "+-------+-------+-------+\n",
            "|       |       |       |\n",
            "|   4   |   O   |   6   |\n",
            "|       |       |       |\n",
            "+-------+-------+-------+\n",
            "|       |       |       |\n",
            "|   7   |   8   |   O   |\n",
            "|       |       |       |\n",
            "+-------+-------+-------+\n",
            "+-------+-------+-------+\n",
            "|       |       |       |\n",
            "|   1   |   X   |   3   |\n",
            "|       |       |       |\n",
            "+-------+-------+-------+\n",
            "|       |       |       |\n",
            "|   4   |   O   |   X   |\n",
            "|       |       |       |\n",
            "+-------+-------+-------+\n",
            "|       |       |       |\n",
            "|   7   |   8   |   O   |\n",
            "|       |       |       |\n",
            "+-------+-------+-------+\n",
            "Enter your move:1\n",
            "+-------+-------+-------+\n",
            "|       |       |       |\n",
            "|   O   |   X   |   3   |\n",
            "|       |       |       |\n",
            "+-------+-------+-------+\n",
            "|       |       |       |\n",
            "|   4   |   O   |   X   |\n",
            "|       |       |       |\n",
            "+-------+-------+-------+\n",
            "|       |       |       |\n",
            "|   7   |   8   |   O   |\n",
            "|       |       |       |\n",
            "+-------+-------+-------+\n",
            "You Won\n"
          ],
          "name": "stdout"
        }
      ]
    },
    {
      "cell_type": "code",
      "metadata": {
        "id": "C3zu5jTQLuJE",
        "colab_type": "code",
        "colab": {}
      },
      "source": [
        ""
      ],
      "execution_count": null,
      "outputs": []
    }
  ]
}